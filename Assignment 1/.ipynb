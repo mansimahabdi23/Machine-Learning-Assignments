{
 "cells": [
  {
   "cell_type": "markdown",
   "metadata": {},
   "source": [
    "Perform the following operations using R/Python on suitable data sets:\n",
    "a) read data from different formats (like csv, xls)\n",
    "b) Find Shape of Data\n",
    "c) Find Missing Values\n",
    "d) Find data type of each column\n",
    "e) Finding out Zero's\n",
    "f) Indexing and selecting data, sort data,\n",
    "g) Describe attributes of data, checking data types of each column,\n",
    "h) counting unique values of data, format of each column, converting variable\n",
    "data type (e.g. from long to short, vice versa)"
   ]
  },
  {
   "cell_type": "code",
   "execution_count": 9,
   "metadata": {},
   "outputs": [
    {
     "name": "stdout",
     "output_type": "stream",
     "text": [
      "Defaulting to user installation because normal site-packages is not writeable\n",
      "Requirement already satisfied: pandas in c:\\users\\mansi\\appdata\\local\\packages\\pythonsoftwarefoundation.python.3.12_qbz5n2kfra8p0\\localcache\\local-packages\\python312\\site-packages (2.2.3)\n",
      "Requirement already satisfied: numpy in c:\\users\\mansi\\appdata\\local\\packages\\pythonsoftwarefoundation.python.3.12_qbz5n2kfra8p0\\localcache\\local-packages\\python312\\site-packages (2.2.1)\n",
      "Collecting matplotlib\n",
      "  Downloading matplotlib-3.10.0-cp312-cp312-win_amd64.whl.metadata (11 kB)\n",
      "Collecting seaborn\n",
      "  Downloading seaborn-0.13.2-py3-none-any.whl.metadata (5.4 kB)\n",
      "Requirement already satisfied: python-dateutil>=2.8.2 in c:\\users\\mansi\\appdata\\local\\packages\\pythonsoftwarefoundation.python.3.12_qbz5n2kfra8p0\\localcache\\local-packages\\python312\\site-packages (from pandas) (2.9.0.post0)\n",
      "Requirement already satisfied: pytz>=2020.1 in c:\\users\\mansi\\appdata\\local\\packages\\pythonsoftwarefoundation.python.3.12_qbz5n2kfra8p0\\localcache\\local-packages\\python312\\site-packages (from pandas) (2024.2)\n",
      "Requirement already satisfied: tzdata>=2022.7 in c:\\users\\mansi\\appdata\\local\\packages\\pythonsoftwarefoundation.python.3.12_qbz5n2kfra8p0\\localcache\\local-packages\\python312\\site-packages (from pandas) (2024.2)\n",
      "Collecting contourpy>=1.0.1 (from matplotlib)\n",
      "  Downloading contourpy-1.3.1-cp312-cp312-win_amd64.whl.metadata (5.4 kB)\n",
      "Collecting cycler>=0.10 (from matplotlib)\n",
      "  Downloading cycler-0.12.1-py3-none-any.whl.metadata (3.8 kB)\n",
      "Collecting fonttools>=4.22.0 (from matplotlib)\n",
      "  Downloading fonttools-4.55.3-cp312-cp312-win_amd64.whl.metadata (168 kB)\n",
      "Collecting kiwisolver>=1.3.1 (from matplotlib)\n",
      "  Downloading kiwisolver-1.4.8-cp312-cp312-win_amd64.whl.metadata (6.3 kB)\n",
      "Requirement already satisfied: packaging>=20.0 in c:\\users\\mansi\\appdata\\local\\packages\\pythonsoftwarefoundation.python.3.12_qbz5n2kfra8p0\\localcache\\local-packages\\python312\\site-packages (from matplotlib) (24.1)\n",
      "Collecting pillow>=8 (from matplotlib)\n",
      "  Downloading pillow-11.1.0-cp312-cp312-win_amd64.whl.metadata (9.3 kB)\n",
      "Collecting pyparsing>=2.3.1 (from matplotlib)\n",
      "  Downloading pyparsing-3.2.1-py3-none-any.whl.metadata (5.0 kB)\n",
      "Requirement already satisfied: six>=1.5 in c:\\users\\mansi\\appdata\\local\\packages\\pythonsoftwarefoundation.python.3.12_qbz5n2kfra8p0\\localcache\\local-packages\\python312\\site-packages (from python-dateutil>=2.8.2->pandas) (1.16.0)\n",
      "Downloading matplotlib-3.10.0-cp312-cp312-win_amd64.whl (8.0 MB)\n",
      "   ---------------------------------------- 0.0/8.0 MB ? eta -:--:--\n",
      "   ---------------------------------------- 0.0/8.0 MB ? eta -:--:--\n",
      "   - -------------------------------------- 0.3/8.0 MB ? eta -:--:--\n",
      "   --- ------------------------------------ 0.8/8.0 MB 3.0 MB/s eta 0:00:03\n",
      "   ----- ---------------------------------- 1.0/8.0 MB 2.4 MB/s eta 0:00:03\n",
      "   ----- ---------------------------------- 1.0/8.0 MB 2.4 MB/s eta 0:00:03\n",
      "   ------ --------------------------------- 1.3/8.0 MB 1.3 MB/s eta 0:00:06\n",
      "   ------- -------------------------------- 1.6/8.0 MB 1.3 MB/s eta 0:00:06\n",
      "   --------- ------------------------------ 1.8/8.0 MB 1.3 MB/s eta 0:00:05\n",
      "   --------- ------------------------------ 1.8/8.0 MB 1.3 MB/s eta 0:00:05\n",
      "   ---------- ----------------------------- 2.1/8.0 MB 1.2 MB/s eta 0:00:05\n",
      "   ---------- ----------------------------- 2.1/8.0 MB 1.2 MB/s eta 0:00:05\n",
      "   ---------- ----------------------------- 2.1/8.0 MB 1.2 MB/s eta 0:00:05\n",
      "   ---------- ----------------------------- 2.1/8.0 MB 1.2 MB/s eta 0:00:05\n",
      "   ---------- ----------------------------- 2.1/8.0 MB 1.2 MB/s eta 0:00:05\n",
      "   ---------- ----------------------------- 2.1/8.0 MB 1.2 MB/s eta 0:00:05\n",
      "   ---------- ----------------------------- 2.1/8.0 MB 1.2 MB/s eta 0:00:05\n",
      "   ---------- ----------------------------- 2.1/8.0 MB 1.2 MB/s eta 0:00:05\n",
      "   ---------- ----------------------------- 2.1/8.0 MB 1.2 MB/s eta 0:00:05\n",
      "   ----------- ---------------------------- 2.4/8.0 MB 591.2 kB/s eta 0:00:10\n",
      "   ----------- ---------------------------- 2.4/8.0 MB 591.2 kB/s eta 0:00:10\n",
      "   ----------- ---------------------------- 2.4/8.0 MB 591.2 kB/s eta 0:00:10\n",
      "   ----------- ---------------------------- 2.4/8.0 MB 591.2 kB/s eta 0:00:10\n",
      "   ----------- ---------------------------- 2.4/8.0 MB 591.2 kB/s eta 0:00:10\n",
      "   ----------- ---------------------------- 2.4/8.0 MB 591.2 kB/s eta 0:00:10\n",
      "   ------------- -------------------------- 2.6/8.0 MB 500.0 kB/s eta 0:00:11\n",
      "   ------------- -------------------------- 2.6/8.0 MB 500.0 kB/s eta 0:00:11\n",
      "   ------------- -------------------------- 2.6/8.0 MB 500.0 kB/s eta 0:00:11\n",
      "   ------------- -------------------------- 2.6/8.0 MB 500.0 kB/s eta 0:00:11\n",
      "   ------------- -------------------------- 2.6/8.0 MB 500.0 kB/s eta 0:00:11\n",
      "   ------------- -------------------------- 2.6/8.0 MB 500.0 kB/s eta 0:00:11\n",
      "   ------------- -------------------------- 2.6/8.0 MB 500.0 kB/s eta 0:00:11\n",
      "   -------------- ------------------------- 2.9/8.0 MB 418.4 kB/s eta 0:00:13\n",
      "   -------------- ------------------------- 2.9/8.0 MB 418.4 kB/s eta 0:00:13\n",
      "   -------------- ------------------------- 2.9/8.0 MB 418.4 kB/s eta 0:00:13\n",
      "   -------------- ------------------------- 2.9/8.0 MB 418.4 kB/s eta 0:00:13\n",
      "   --------------- ------------------------ 3.1/8.0 MB 407.4 kB/s eta 0:00:13\n",
      "   --------------- ------------------------ 3.1/8.0 MB 407.4 kB/s eta 0:00:13\n",
      "   --------------- ------------------------ 3.1/8.0 MB 407.4 kB/s eta 0:00:13\n",
      "   --------------- ------------------------ 3.1/8.0 MB 407.4 kB/s eta 0:00:13\n",
      "   --------------- ------------------------ 3.1/8.0 MB 407.4 kB/s eta 0:00:13\n",
      "   --------------- ------------------------ 3.1/8.0 MB 407.4 kB/s eta 0:00:13\n",
      "   --------------- ------------------------ 3.1/8.0 MB 407.4 kB/s eta 0:00:13\n",
      "   --------------- ------------------------ 3.1/8.0 MB 407.4 kB/s eta 0:00:13\n",
      "   --------------- ------------------------ 3.1/8.0 MB 407.4 kB/s eta 0:00:13\n",
      "   ---------------- ----------------------- 3.4/8.0 MB 352.6 kB/s eta 0:00:14\n",
      "   ---------------- ----------------------- 3.4/8.0 MB 352.6 kB/s eta 0:00:14\n",
      "   ---------------- ----------------------- 3.4/8.0 MB 352.6 kB/s eta 0:00:14\n",
      "   ---------------- ----------------------- 3.4/8.0 MB 352.6 kB/s eta 0:00:14\n",
      "   ---------------- ----------------------- 3.4/8.0 MB 352.6 kB/s eta 0:00:14\n",
      "   ---------------- ----------------------- 3.4/8.0 MB 352.6 kB/s eta 0:00:14\n",
      "   ---------------- ----------------------- 3.4/8.0 MB 352.6 kB/s eta 0:00:14\n",
      "   ---------------- ----------------------- 3.4/8.0 MB 352.6 kB/s eta 0:00:14\n",
      "   ---------------- ----------------------- 3.4/8.0 MB 352.6 kB/s eta 0:00:14\n",
      "   ---------------- ----------------------- 3.4/8.0 MB 352.6 kB/s eta 0:00:14\n",
      "   ---------------- ----------------------- 3.4/8.0 MB 352.6 kB/s eta 0:00:14\n",
      "   ---------------- ----------------------- 3.4/8.0 MB 352.6 kB/s eta 0:00:14\n",
      "   ---------------- ----------------------- 3.4/8.0 MB 352.6 kB/s eta 0:00:14\n",
      "   ------------------ --------------------- 3.7/8.0 MB 290.8 kB/s eta 0:00:16\n",
      "   ------------------ --------------------- 3.7/8.0 MB 290.8 kB/s eta 0:00:16\n",
      "   ------------------ --------------------- 3.7/8.0 MB 290.8 kB/s eta 0:00:16\n",
      "   ------------------- -------------------- 3.9/8.0 MB 296.6 kB/s eta 0:00:14\n",
      "   ------------------- -------------------- 3.9/8.0 MB 296.6 kB/s eta 0:00:14\n",
      "   -------------------- ------------------- 4.2/8.0 MB 308.8 kB/s eta 0:00:13\n",
      "   -------------------- ------------------- 4.2/8.0 MB 308.8 kB/s eta 0:00:13\n",
      "   -------------------- ------------------- 4.2/8.0 MB 308.8 kB/s eta 0:00:13\n",
      "   ---------------------- ----------------- 4.5/8.0 MB 315.4 kB/s eta 0:00:12\n",
      "   ---------------------- ----------------- 4.5/8.0 MB 315.4 kB/s eta 0:00:12\n",
      "   ---------------------- ----------------- 4.5/8.0 MB 315.4 kB/s eta 0:00:12\n",
      "   ---------------------- ----------------- 4.5/8.0 MB 315.4 kB/s eta 0:00:12\n",
      "   ---------------------- ----------------- 4.5/8.0 MB 315.4 kB/s eta 0:00:12\n",
      "   ----------------------- ---------------- 4.7/8.0 MB 308.3 kB/s eta 0:00:11\n",
      "   ----------------------- ---------------- 4.7/8.0 MB 308.3 kB/s eta 0:00:11\n",
      "   ------------------------ --------------- 5.0/8.0 MB 318.2 kB/s eta 0:00:10\n",
      "   ------------------------ --------------- 5.0/8.0 MB 318.2 kB/s eta 0:00:10\n",
      "   -------------------------- ------------- 5.2/8.0 MB 325.6 kB/s eta 0:00:09\n",
      "   -------------------------- ------------- 5.2/8.0 MB 325.6 kB/s eta 0:00:09\n",
      "   --------------------------- ------------ 5.5/8.0 MB 332.9 kB/s eta 0:00:08\n",
      "   --------------------------- ------------ 5.5/8.0 MB 332.9 kB/s eta 0:00:08\n",
      "   --------------------------- ------------ 5.5/8.0 MB 332.9 kB/s eta 0:00:08\n",
      "   --------------------------- ------------ 5.5/8.0 MB 332.9 kB/s eta 0:00:08\n",
      "   ---------------------------- ----------- 5.8/8.0 MB 335.5 kB/s eta 0:00:07\n",
      "   ---------------------------- ----------- 5.8/8.0 MB 335.5 kB/s eta 0:00:07\n",
      "   ----------------------------- ---------- 6.0/8.0 MB 343.0 kB/s eta 0:00:06\n",
      "   ----------------------------- ---------- 6.0/8.0 MB 343.0 kB/s eta 0:00:06\n",
      "   ----------------------------- ---------- 6.0/8.0 MB 343.0 kB/s eta 0:00:06\n",
      "   ----------------------------- ---------- 6.0/8.0 MB 343.0 kB/s eta 0:00:06\n",
      "   ------------------------------- -------- 6.3/8.0 MB 340.9 kB/s eta 0:00:06\n",
      "   ------------------------------- -------- 6.3/8.0 MB 340.9 kB/s eta 0:00:06\n",
      "   ------------------------------- -------- 6.3/8.0 MB 340.9 kB/s eta 0:00:06\n",
      "   -------------------------------- ------- 6.6/8.0 MB 343.0 kB/s eta 0:00:05\n",
      "   -------------------------------- ------- 6.6/8.0 MB 343.0 kB/s eta 0:00:05\n",
      "   -------------------------------- ------- 6.6/8.0 MB 343.0 kB/s eta 0:00:05\n",
      "   -------------------------------- ------- 6.6/8.0 MB 343.0 kB/s eta 0:00:05\n",
      "   --------------------------------- ------ 6.8/8.0 MB 341.0 kB/s eta 0:00:04\n",
      "   --------------------------------- ------ 6.8/8.0 MB 341.0 kB/s eta 0:00:04\n",
      "   --------------------------------- ------ 6.8/8.0 MB 341.0 kB/s eta 0:00:04\n",
      "   --------------------------------- ------ 6.8/8.0 MB 341.0 kB/s eta 0:00:04\n",
      "   ----------------------------------- ---- 7.1/8.0 MB 340.5 kB/s eta 0:00:03\n",
      "   ----------------------------------- ---- 7.1/8.0 MB 340.5 kB/s eta 0:00:03\n",
      "   ------------------------------------ --- 7.3/8.0 MB 345.3 kB/s eta 0:00:03\n",
      "   ------------------------------------ --- 7.3/8.0 MB 345.3 kB/s eta 0:00:03\n",
      "   ------------------------------------ --- 7.3/8.0 MB 345.3 kB/s eta 0:00:03\n",
      "   ------------------------------------ --- 7.3/8.0 MB 345.3 kB/s eta 0:00:03\n",
      "   ------------------------------------- -- 7.6/8.0 MB 346.2 kB/s eta 0:00:02\n",
      "   ------------------------------------- -- 7.6/8.0 MB 346.2 kB/s eta 0:00:02\n",
      "   ---------------------------------------  7.9/8.0 MB 350.8 kB/s eta 0:00:01\n",
      "   ---------------------------------------  7.9/8.0 MB 350.8 kB/s eta 0:00:01\n",
      "   ---------------------------------------  7.9/8.0 MB 350.8 kB/s eta 0:00:01\n",
      "   ---------------------------------------  7.9/8.0 MB 350.8 kB/s eta 0:00:01\n",
      "   ---------------------------------------- 8.0/8.0 MB 345.2 kB/s eta 0:00:00\n",
      "Downloading seaborn-0.13.2-py3-none-any.whl (294 kB)\n",
      "Downloading contourpy-1.3.1-cp312-cp312-win_amd64.whl (220 kB)\n",
      "Downloading cycler-0.12.1-py3-none-any.whl (8.3 kB)\n",
      "Downloading fonttools-4.55.3-cp312-cp312-win_amd64.whl (2.2 MB)\n",
      "   ---------------------------------------- 0.0/2.2 MB ? eta -:--:--\n",
      "   ---------------------------------------- 0.0/2.2 MB ? eta -:--:--\n",
      "   ---------------------------------------- 0.0/2.2 MB ? eta -:--:--\n",
      "   ---------------------------------------- 0.0/2.2 MB ? eta -:--:--\n",
      "   ---------------------------------------- 0.0/2.2 MB ? eta -:--:--\n",
      "   ---- ----------------------------------- 0.3/2.2 MB ? eta -:--:--\n",
      "   ---- ----------------------------------- 0.3/2.2 MB ? eta -:--:--\n",
      "   ---- ----------------------------------- 0.3/2.2 MB ? eta -:--:--\n",
      "   --------- ------------------------------ 0.5/2.2 MB 419.4 kB/s eta 0:00:05\n",
      "   --------- ------------------------------ 0.5/2.2 MB 419.4 kB/s eta 0:00:05\n",
      "   -------------- ------------------------- 0.8/2.2 MB 493.2 kB/s eta 0:00:03\n",
      "   ------------------ --------------------- 1.0/2.2 MB 599.0 kB/s eta 0:00:02\n",
      "   ------------------ --------------------- 1.0/2.2 MB 599.0 kB/s eta 0:00:02\n",
      "   ------------------ --------------------- 1.0/2.2 MB 599.0 kB/s eta 0:00:02\n",
      "   ----------------------- ---------------- 1.3/2.2 MB 554.5 kB/s eta 0:00:02\n",
      "   ---------------------------- ----------- 1.6/2.2 MB 625.9 kB/s eta 0:00:02\n",
      "   --------------------------------- ------ 1.8/2.2 MB 684.7 kB/s eta 0:00:01\n",
      "   --------------------------------- ------ 1.8/2.2 MB 684.7 kB/s eta 0:00:01\n",
      "   ------------------------------------- -- 2.1/2.2 MB 667.3 kB/s eta 0:00:01\n",
      "   ------------------------------------- -- 2.1/2.2 MB 667.3 kB/s eta 0:00:01\n",
      "   ---------------------------------------- 2.2/2.2 MB 623.0 kB/s eta 0:00:00\n",
      "Downloading kiwisolver-1.4.8-cp312-cp312-win_amd64.whl (71 kB)\n",
      "Downloading pillow-11.1.0-cp312-cp312-win_amd64.whl (2.6 MB)\n",
      "   ---------------------------------------- 0.0/2.6 MB ? eta -:--:--\n",
      "   ---------------------------------------- 0.0/2.6 MB ? eta -:--:--\n",
      "   ---------------------------------------- 0.0/2.6 MB ? eta -:--:--\n",
      "   ---------------------------------------- 0.0/2.6 MB ? eta -:--:--\n",
      "   --- ------------------------------------ 0.3/2.6 MB ? eta -:--:--\n",
      "   --- ------------------------------------ 0.3/2.6 MB ? eta -:--:--\n",
      "   --- ------------------------------------ 0.3/2.6 MB ? eta -:--:--\n",
      "   --- ------------------------------------ 0.3/2.6 MB ? eta -:--:--\n",
      "   --- ------------------------------------ 0.3/2.6 MB ? eta -:--:--\n",
      "   ------- -------------------------------- 0.5/2.6 MB 233.0 kB/s eta 0:00:10\n",
      "   ------- -------------------------------- 0.5/2.6 MB 233.0 kB/s eta 0:00:10\n",
      "   ------- -------------------------------- 0.5/2.6 MB 233.0 kB/s eta 0:00:10\n",
      "   ------- -------------------------------- 0.5/2.6 MB 233.0 kB/s eta 0:00:10\n",
      "   ----------- ---------------------------- 0.8/2.6 MB 274.9 kB/s eta 0:00:07\n",
      "   ----------- ---------------------------- 0.8/2.6 MB 274.9 kB/s eta 0:00:07\n",
      "   ----------- ---------------------------- 0.8/2.6 MB 274.9 kB/s eta 0:00:07\n",
      "   --------------- ------------------------ 1.0/2.6 MB 324.7 kB/s eta 0:00:05\n",
      "   --------------- ------------------------ 1.0/2.6 MB 324.7 kB/s eta 0:00:05\n",
      "   --------------- ------------------------ 1.0/2.6 MB 324.7 kB/s eta 0:00:05\n",
      "   --------------- ------------------------ 1.0/2.6 MB 324.7 kB/s eta 0:00:05\n",
      "   ------------------- -------------------- 1.3/2.6 MB 322.6 kB/s eta 0:00:05\n",
      "   ------------------- -------------------- 1.3/2.6 MB 322.6 kB/s eta 0:00:05\n",
      "   ------------------- -------------------- 1.3/2.6 MB 322.6 kB/s eta 0:00:05\n",
      "   ------------------- -------------------- 1.3/2.6 MB 322.6 kB/s eta 0:00:05\n",
      "   ------------------- -------------------- 1.3/2.6 MB 322.6 kB/s eta 0:00:05\n",
      "   ------------------- -------------------- 1.3/2.6 MB 322.6 kB/s eta 0:00:05\n",
      "   ------------------- -------------------- 1.3/2.6 MB 322.6 kB/s eta 0:00:05\n",
      "   ----------------------- ---------------- 1.6/2.6 MB 276.8 kB/s eta 0:00:04\n",
      "   ----------------------- ---------------- 1.6/2.6 MB 276.8 kB/s eta 0:00:04\n",
      "   ----------------------- ---------------- 1.6/2.6 MB 276.8 kB/s eta 0:00:04\n",
      "   ----------------------- ---------------- 1.6/2.6 MB 276.8 kB/s eta 0:00:04\n",
      "   ----------------------- ---------------- 1.6/2.6 MB 276.8 kB/s eta 0:00:04\n",
      "   ----------------------- ---------------- 1.6/2.6 MB 276.8 kB/s eta 0:00:04\n",
      "   --------------------------- ------------ 1.8/2.6 MB 262.1 kB/s eta 0:00:04\n",
      "   --------------------------- ------------ 1.8/2.6 MB 262.1 kB/s eta 0:00:04\n",
      "   --------------------------- ------------ 1.8/2.6 MB 262.1 kB/s eta 0:00:04\n",
      "   ------------------------------- -------- 2.1/2.6 MB 271.2 kB/s eta 0:00:02\n",
      "   ------------------------------- -------- 2.1/2.6 MB 271.2 kB/s eta 0:00:02\n",
      "   ------------------------------- -------- 2.1/2.6 MB 271.2 kB/s eta 0:00:02\n",
      "   ----------------------------------- ---- 2.4/2.6 MB 284.4 kB/s eta 0:00:01\n",
      "   ----------------------------------- ---- 2.4/2.6 MB 284.4 kB/s eta 0:00:01\n",
      "   ----------------------------------- ---- 2.4/2.6 MB 284.4 kB/s eta 0:00:01\n",
      "   ----------------------------------- ---- 2.4/2.6 MB 284.4 kB/s eta 0:00:01\n",
      "   ---------------------------------------- 2.6/2.6 MB 291.5 kB/s eta 0:00:00\n",
      "Downloading pyparsing-3.2.1-py3-none-any.whl (107 kB)\n",
      "Installing collected packages: pyparsing, pillow, kiwisolver, fonttools, cycler, contourpy, matplotlib, seaborn\n",
      "Successfully installed contourpy-1.3.1 cycler-0.12.1 fonttools-4.55.3 kiwisolver-1.4.8 matplotlib-3.10.0 pillow-11.1.0 pyparsing-3.2.1 seaborn-0.13.2\n",
      "Note: you may need to restart the kernel to use updated packages.\n"
     ]
    }
   ],
   "source": [
    "%pip install pandas numpy matplotlib seaborn"
   ]
  },
  {
   "cell_type": "code",
   "execution_count": 10,
   "metadata": {},
   "outputs": [],
   "source": [
    "import pandas as pd\n",
    "import numpy as np\n",
    "import matplotlib.pyplot as plt"
   ]
  },
  {
   "cell_type": "markdown",
   "metadata": {},
   "source": [
    "Importing the dataset"
   ]
  },
  {
   "cell_type": "code",
   "execution_count": 11,
   "metadata": {},
   "outputs": [],
   "source": [
    "\n",
    "dataset = pd.read_csv('Data.csv')"
   ]
  },
  {
   "cell_type": "markdown",
   "metadata": {},
   "source": [
    "1. Reading from the dataset"
   ]
  },
  {
   "cell_type": "code",
   "execution_count": 12,
   "metadata": {},
   "outputs": [
    {
     "name": "stdout",
     "output_type": "stream",
     "text": [
      "   Country   Age   Salary Purchased\n",
      "0   France  44.0  72000.0        No\n",
      "1    Spain  27.0  48000.0       Yes\n",
      "2  Germany  30.0  54000.0        No\n",
      "3    Spain  38.0  61000.0        No\n",
      "4  Germany  40.0      NaN       Yes\n",
      "5   France  35.0  58000.0       Yes\n",
      "6    Spain   NaN  52000.0        No\n",
      "7   France  48.0  79000.0       Yes\n",
      "8  Germany  50.0  83000.0        No\n",
      "9   France  37.0  67000.0       Yes\n"
     ]
    }
   ],
   "source": [
    "print(dataset)"
   ]
  },
  {
   "cell_type": "markdown",
   "metadata": {},
   "source": [
    "2. Finding shape of data"
   ]
  },
  {
   "cell_type": "code",
   "execution_count": 14,
   "metadata": {},
   "outputs": [
    {
     "data": {
      "text/plain": [
       "(10, 4)"
      ]
     },
     "execution_count": 14,
     "metadata": {},
     "output_type": "execute_result"
    }
   ],
   "source": [
    "dataset.shape"
   ]
  },
  {
   "cell_type": "markdown",
   "metadata": {},
   "source": [
    "3. finding datatype of each column"
   ]
  },
  {
   "cell_type": "code",
   "execution_count": 15,
   "metadata": {},
   "outputs": [
    {
     "name": "stdout",
     "output_type": "stream",
     "text": [
      "<class 'pandas.core.frame.DataFrame'>\n",
      "RangeIndex: 10 entries, 0 to 9\n",
      "Data columns (total 4 columns):\n",
      " #   Column     Non-Null Count  Dtype  \n",
      "---  ------     --------------  -----  \n",
      " 0   Country    10 non-null     object \n",
      " 1   Age        9 non-null      float64\n",
      " 2   Salary     9 non-null      float64\n",
      " 3   Purchased  10 non-null     object \n",
      "dtypes: float64(2), object(2)\n",
      "memory usage: 452.0+ bytes\n"
     ]
    }
   ],
   "source": [
    "#3. finding datatype of each column\n",
    "dataset.info()"
   ]
  },
  {
   "cell_type": "code",
   "execution_count": 16,
   "metadata": {},
   "outputs": [
    {
     "data": {
      "text/plain": [
       "Country       object\n",
       "Age          float64\n",
       "Salary       float64\n",
       "Purchased     object\n",
       "dtype: object"
      ]
     },
     "execution_count": 16,
     "metadata": {},
     "output_type": "execute_result"
    }
   ],
   "source": [
    "dataset.dtypes"
   ]
  },
  {
   "cell_type": "markdown",
   "metadata": {},
   "source": [
    "4. finding missing values / null values"
   ]
  },
  {
   "cell_type": "code",
   "execution_count": 17,
   "metadata": {},
   "outputs": [
    {
     "data": {
      "text/plain": [
       "Country      0\n",
       "Age          1\n",
       "Salary       1\n",
       "Purchased    0\n",
       "dtype: int64"
      ]
     },
     "execution_count": 17,
     "metadata": {},
     "output_type": "execute_result"
    }
   ],
   "source": [
    "dataset.isnull().sum()"
   ]
  },
  {
   "cell_type": "markdown",
   "metadata": {},
   "source": [
    "5. indexing and selecting data, sort data\n"
   ]
  },
  {
   "cell_type": "code",
   "execution_count": 18,
   "metadata": {},
   "outputs": [
    {
     "data": {
      "text/html": [
       "<div>\n",
       "<style scoped>\n",
       "    .dataframe tbody tr th:only-of-type {\n",
       "        vertical-align: middle;\n",
       "    }\n",
       "\n",
       "    .dataframe tbody tr th {\n",
       "        vertical-align: top;\n",
       "    }\n",
       "\n",
       "    .dataframe thead th {\n",
       "        text-align: right;\n",
       "    }\n",
       "</style>\n",
       "<table border=\"1\" class=\"dataframe\">\n",
       "  <thead>\n",
       "    <tr style=\"text-align: right;\">\n",
       "      <th></th>\n",
       "      <th>Age</th>\n",
       "      <th>Salary</th>\n",
       "    </tr>\n",
       "  </thead>\n",
       "  <tbody>\n",
       "    <tr>\n",
       "      <th>0</th>\n",
       "      <td>44.0</td>\n",
       "      <td>72000.0</td>\n",
       "    </tr>\n",
       "    <tr>\n",
       "      <th>1</th>\n",
       "      <td>27.0</td>\n",
       "      <td>48000.0</td>\n",
       "    </tr>\n",
       "    <tr>\n",
       "      <th>2</th>\n",
       "      <td>30.0</td>\n",
       "      <td>54000.0</td>\n",
       "    </tr>\n",
       "    <tr>\n",
       "      <th>3</th>\n",
       "      <td>38.0</td>\n",
       "      <td>61000.0</td>\n",
       "    </tr>\n",
       "    <tr>\n",
       "      <th>4</th>\n",
       "      <td>40.0</td>\n",
       "      <td>NaN</td>\n",
       "    </tr>\n",
       "    <tr>\n",
       "      <th>5</th>\n",
       "      <td>35.0</td>\n",
       "      <td>58000.0</td>\n",
       "    </tr>\n",
       "    <tr>\n",
       "      <th>6</th>\n",
       "      <td>NaN</td>\n",
       "      <td>52000.0</td>\n",
       "    </tr>\n",
       "    <tr>\n",
       "      <th>7</th>\n",
       "      <td>48.0</td>\n",
       "      <td>79000.0</td>\n",
       "    </tr>\n",
       "    <tr>\n",
       "      <th>8</th>\n",
       "      <td>50.0</td>\n",
       "      <td>83000.0</td>\n",
       "    </tr>\n",
       "    <tr>\n",
       "      <th>9</th>\n",
       "      <td>37.0</td>\n",
       "      <td>67000.0</td>\n",
       "    </tr>\n",
       "  </tbody>\n",
       "</table>\n",
       "</div>"
      ],
      "text/plain": [
       "    Age   Salary\n",
       "0  44.0  72000.0\n",
       "1  27.0  48000.0\n",
       "2  30.0  54000.0\n",
       "3  38.0  61000.0\n",
       "4  40.0      NaN\n",
       "5  35.0  58000.0\n",
       "6   NaN  52000.0\n",
       "7  48.0  79000.0\n",
       "8  50.0  83000.0\n",
       "9  37.0  67000.0"
      ]
     },
     "execution_count": 18,
     "metadata": {},
     "output_type": "execute_result"
    }
   ],
   "source": [
    "select_data = dataset[[\"Age\", \"Salary\"]]\n",
    "select_data"
   ]
  },
  {
   "cell_type": "markdown",
   "metadata": {},
   "source": [
    "6. sorting data"
   ]
  },
  {
   "cell_type": "code",
   "execution_count": 19,
   "metadata": {},
   "outputs": [
    {
     "data": {
      "text/plain": [
       "[27.0, 30.0, 35.0, 37.0, 38.0, 40.0, 44.0, nan, 48.0, 50.0]"
      ]
     },
     "execution_count": 19,
     "metadata": {},
     "output_type": "execute_result"
    }
   ],
   "source": [
    "#sorting data\n",
    "\n",
    "age_sorted = sorted(select_data[\"Age\"])\n",
    "age_sorted"
   ]
  },
  {
   "cell_type": "code",
   "execution_count": 20,
   "metadata": {},
   "outputs": [
    {
     "data": {
      "text/plain": [
       "[48000.0,\n",
       " 52000.0,\n",
       " 54000.0,\n",
       " 58000.0,\n",
       " 61000.0,\n",
       " 72000.0,\n",
       " nan,\n",
       " 67000.0,\n",
       " 79000.0,\n",
       " 83000.0]"
      ]
     },
     "execution_count": 20,
     "metadata": {},
     "output_type": "execute_result"
    }
   ],
   "source": [
    "salary_sorted = sorted(select_data[\"Salary\"])\n",
    "salary_sorted"
   ]
  },
  {
   "cell_type": "markdown",
   "metadata": {},
   "source": [
    "Common data frames attributes"
   ]
  },
  {
   "cell_type": "code",
   "execution_count": 21,
   "metadata": {},
   "outputs": [
    {
     "data": {
      "text/plain": [
       "(10, 4)"
      ]
     },
     "execution_count": 21,
     "metadata": {},
     "output_type": "execute_result"
    }
   ],
   "source": [
    "dataset.shape"
   ]
  },
  {
   "cell_type": "code",
   "execution_count": 22,
   "metadata": {},
   "outputs": [
    {
     "data": {
      "text/plain": [
       "RangeIndex(start=0, stop=10, step=1)"
      ]
     },
     "execution_count": 22,
     "metadata": {},
     "output_type": "execute_result"
    }
   ],
   "source": [
    "dataset.index"
   ]
  },
  {
   "cell_type": "code",
   "execution_count": 23,
   "metadata": {},
   "outputs": [
    {
     "data": {
      "text/plain": [
       "Index(['Country', 'Age', 'Salary', 'Purchased'], dtype='object')"
      ]
     },
     "execution_count": 23,
     "metadata": {},
     "output_type": "execute_result"
    }
   ],
   "source": [
    "dataset.columns"
   ]
  },
  {
   "cell_type": "code",
   "execution_count": 24,
   "metadata": {},
   "outputs": [
    {
     "data": {
      "text/plain": [
       "40"
      ]
     },
     "execution_count": 24,
     "metadata": {},
     "output_type": "execute_result"
    }
   ],
   "source": [
    "dataset.size"
   ]
  },
  {
   "cell_type": "code",
   "execution_count": 25,
   "metadata": {},
   "outputs": [
    {
     "data": {
      "text/plain": [
       "array([['France', 44.0, 72000.0, 'No'],\n",
       "       ['Spain', 27.0, 48000.0, 'Yes'],\n",
       "       ['Germany', 30.0, 54000.0, 'No'],\n",
       "       ['Spain', 38.0, 61000.0, 'No'],\n",
       "       ['Germany', 40.0, nan, 'Yes'],\n",
       "       ['France', 35.0, 58000.0, 'Yes'],\n",
       "       ['Spain', nan, 52000.0, 'No'],\n",
       "       ['France', 48.0, 79000.0, 'Yes'],\n",
       "       ['Germany', 50.0, 83000.0, 'No'],\n",
       "       ['France', 37.0, 67000.0, 'Yes']], dtype=object)"
      ]
     },
     "execution_count": 25,
     "metadata": {},
     "output_type": "execute_result"
    }
   ],
   "source": [
    "dataset.values"
   ]
  },
  {
   "cell_type": "code",
   "execution_count": 26,
   "metadata": {},
   "outputs": [
    {
     "data": {
      "text/html": [
       "<div>\n",
       "<style scoped>\n",
       "    .dataframe tbody tr th:only-of-type {\n",
       "        vertical-align: middle;\n",
       "    }\n",
       "\n",
       "    .dataframe tbody tr th {\n",
       "        vertical-align: top;\n",
       "    }\n",
       "\n",
       "    .dataframe thead th {\n",
       "        text-align: right;\n",
       "    }\n",
       "</style>\n",
       "<table border=\"1\" class=\"dataframe\">\n",
       "  <thead>\n",
       "    <tr style=\"text-align: right;\">\n",
       "      <th></th>\n",
       "      <th>0</th>\n",
       "      <th>1</th>\n",
       "      <th>2</th>\n",
       "      <th>3</th>\n",
       "      <th>4</th>\n",
       "      <th>5</th>\n",
       "      <th>6</th>\n",
       "      <th>7</th>\n",
       "      <th>8</th>\n",
       "      <th>9</th>\n",
       "    </tr>\n",
       "  </thead>\n",
       "  <tbody>\n",
       "    <tr>\n",
       "      <th>Country</th>\n",
       "      <td>France</td>\n",
       "      <td>Spain</td>\n",
       "      <td>Germany</td>\n",
       "      <td>Spain</td>\n",
       "      <td>Germany</td>\n",
       "      <td>France</td>\n",
       "      <td>Spain</td>\n",
       "      <td>France</td>\n",
       "      <td>Germany</td>\n",
       "      <td>France</td>\n",
       "    </tr>\n",
       "    <tr>\n",
       "      <th>Age</th>\n",
       "      <td>44.0</td>\n",
       "      <td>27.0</td>\n",
       "      <td>30.0</td>\n",
       "      <td>38.0</td>\n",
       "      <td>40.0</td>\n",
       "      <td>35.0</td>\n",
       "      <td>NaN</td>\n",
       "      <td>48.0</td>\n",
       "      <td>50.0</td>\n",
       "      <td>37.0</td>\n",
       "    </tr>\n",
       "    <tr>\n",
       "      <th>Salary</th>\n",
       "      <td>72000.0</td>\n",
       "      <td>48000.0</td>\n",
       "      <td>54000.0</td>\n",
       "      <td>61000.0</td>\n",
       "      <td>NaN</td>\n",
       "      <td>58000.0</td>\n",
       "      <td>52000.0</td>\n",
       "      <td>79000.0</td>\n",
       "      <td>83000.0</td>\n",
       "      <td>67000.0</td>\n",
       "    </tr>\n",
       "    <tr>\n",
       "      <th>Purchased</th>\n",
       "      <td>No</td>\n",
       "      <td>Yes</td>\n",
       "      <td>No</td>\n",
       "      <td>No</td>\n",
       "      <td>Yes</td>\n",
       "      <td>Yes</td>\n",
       "      <td>No</td>\n",
       "      <td>Yes</td>\n",
       "      <td>No</td>\n",
       "      <td>Yes</td>\n",
       "    </tr>\n",
       "  </tbody>\n",
       "</table>\n",
       "</div>"
      ],
      "text/plain": [
       "                 0        1        2        3        4        5        6  \\\n",
       "Country     France    Spain  Germany    Spain  Germany   France    Spain   \n",
       "Age           44.0     27.0     30.0     38.0     40.0     35.0      NaN   \n",
       "Salary     72000.0  48000.0  54000.0  61000.0      NaN  58000.0  52000.0   \n",
       "Purchased       No      Yes       No       No      Yes      Yes       No   \n",
       "\n",
       "                 7        8        9  \n",
       "Country     France  Germany   France  \n",
       "Age           48.0     50.0     37.0  \n",
       "Salary     79000.0  83000.0  67000.0  \n",
       "Purchased      Yes       No      Yes  "
      ]
     },
     "execution_count": 26,
     "metadata": {},
     "output_type": "execute_result"
    }
   ],
   "source": [
    "dataset.T"
   ]
  },
  {
   "cell_type": "code",
   "execution_count": 27,
   "metadata": {},
   "outputs": [
    {
     "data": {
      "text/plain": [
       "False"
      ]
     },
     "execution_count": 27,
     "metadata": {},
     "output_type": "execute_result"
    }
   ],
   "source": [
    "dataset.empty"
   ]
  },
  {
   "cell_type": "code",
   "execution_count": 28,
   "metadata": {},
   "outputs": [
    {
     "data": {
      "text/plain": [
       "2"
      ]
     },
     "execution_count": 28,
     "metadata": {},
     "output_type": "execute_result"
    }
   ],
   "source": [
    "dataset.ndim"
   ]
  },
  {
   "cell_type": "code",
   "execution_count": 29,
   "metadata": {},
   "outputs": [
    {
     "data": {
      "text/plain": [
       "Index        132\n",
       "Country       80\n",
       "Age           80\n",
       "Salary        80\n",
       "Purchased     80\n",
       "dtype: int64"
      ]
     },
     "execution_count": 29,
     "metadata": {},
     "output_type": "execute_result"
    }
   ],
   "source": [
    "dataset.memory_usage()"
   ]
  },
  {
   "cell_type": "code",
   "execution_count": 30,
   "metadata": {},
   "outputs": [
    {
     "name": "stdout",
     "output_type": "stream",
     "text": [
      "44.0\n"
     ]
    }
   ],
   "source": [
    "print(dataset.at[0,'Age'])"
   ]
  },
  {
   "cell_type": "code",
   "execution_count": 31,
   "metadata": {},
   "outputs": [
    {
     "data": {
      "text/plain": [
       "<pandas.core.indexing._iAtIndexer at 0x210c2825400>"
      ]
     },
     "execution_count": 31,
     "metadata": {},
     "output_type": "execute_result"
    }
   ],
   "source": [
    "dataset.iat"
   ]
  },
  {
   "cell_type": "code",
   "execution_count": 32,
   "metadata": {},
   "outputs": [
    {
     "data": {
      "text/plain": [
       "[RangeIndex(start=0, stop=10, step=1),\n",
       " Index(['Country', 'Age', 'Salary', 'Purchased'], dtype='object')]"
      ]
     },
     "execution_count": 32,
     "metadata": {},
     "output_type": "execute_result"
    }
   ],
   "source": [
    "dataset.axes"
   ]
  },
  {
   "cell_type": "code",
   "execution_count": null,
   "metadata": {},
   "outputs": [],
   "source": []
  }
 ],
 "metadata": {
  "kernelspec": {
   "display_name": "Python 3",
   "language": "python",
   "name": "python3"
  },
  "language_info": {
   "codemirror_mode": {
    "name": "ipython",
    "version": 3
   },
   "file_extension": ".py",
   "mimetype": "text/x-python",
   "name": "python",
   "nbconvert_exporter": "python",
   "pygments_lexer": "ipython3",
   "version": "3.12.9"
  }
 },
 "nbformat": 4,
 "nbformat_minor": 2
}
